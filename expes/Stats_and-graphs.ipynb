{
 "cells": [
  {
   "cell_type": "code",
<<<<<<< HEAD
   "execution_count": 1,
=======
   "execution_count": null,
>>>>>>> bc9377f627eb54b0bbfdd2ac584714804c1db0f9
   "id": "major-leone",
   "metadata": {},
   "outputs": [],
   "source": [
    "import parse\n",
    "import matplotlib.pyplot as plt\n",
    "import pandas as pd\n",
    "import numpy as np\n",
    "import csv\n",
    "\n"
   ]
  },
  {
   "cell_type": "code",
   "execution_count": 3,
   "id": "preliminary-serum",
   "metadata": {
    "scrolled": false
   },
   "outputs": [
    {
     "name": "stdout",
     "output_type": "stream",
     "text": [
      "dict_keys(['1', '50', '100', '150', '200', '250', '300', '350', '500', '750'])\n",
      "dict_values([10241.75, 12491.4, 12852.75, 15302.6, 16810.0, 18531.4, 20102.4, 21598.8, 26936.8, 36549.4])\n",
      "dict_keys(['1', '50', '100', '150', '200', '250', '300', '350', '500', '750'])\n",
      "dict_values([10805.2, 12467.2, 13817.2, 15067.4, 16781.0, 18342.4, 20847.833333333332, 21748.8, 26632.8, 36096.0])\n",
      "dict_keys(['1', '50', '100', '150', '200', '250', '300', '350', '500', '750', '1000'])\n",
      "dict_values([10185.75, 11014.0, 11168.6, 11073.0, 11149.4, 11325.8, 11365.2, 11485.0, 12148.4, 13978.6, 17385.6])\n",
      "dict_keys(['1', '50', '100', '150', '200', '250', '300', '350', '500', '750', '1000'])\n",
      "dict_values([11036.6, 11570.5, 11560.333333333334, 11246.8, 11188.0, 11454.6, 11499.0, 11643.6, 12332.4, 14359.0, 17755.6])\n"
     ]
    },
    {
     "data": {
      "image/png": "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\n",
      "text/plain": [
       "<Figure size 432x288 with 1 Axes>"
      ]
     },
     "metadata": {
      "needs_background": "light"
     },
     "output_type": "display_data"
    }
   ],
   "source": [
    "import parse\n",
    "import matplotlib.pyplot as plt\n",
    "import pandas as pd\n",
    "import numpy as np\n",
    "import csv\n",
    "\n",
    "import pprint\n",
    "pp = pprint.PrettyPrinter(indent=4)\n",
    "\n",
    "RESULTS_PATH=\"/home/nivek/Documents/results_expes\"\n",
    "VANILLA_FILE_PATH=RESULTS_PATH+\"/startup/vanilla/time_van_ms\"\n",
    "DIRECT_FILE_PATH=RESULTS_PATH+\"/startup/direct_hack/time_dh_ms\"\n",
    "\n",
    "def data_per_disk_from_file(file_path):\n",
    "    data_per_disk = {}\n",
    "\n",
    "    with open(file_path, 'r') as datafile:\n",
    "        lines = datafile.readlines()\n",
    "        i=0\n",
    "        snap_nb = -1\n",
    "        disk_size = -1\n",
    "        while True:\n",
    "            unpack_obj = parse.parse(\"****Snapshots : {} - Disk : {}****\\n\", lines[i])\n",
    "            ms = -1\n",
    "            if unpack_obj != None:\n",
    "                [snap_nb, disk_size] = unpack_obj\n",
    "            else:\n",
    "                unpack_obj = parse.parse(\"{:d}\\n\", lines[i])\n",
    "                if unpack_obj == None: break\n",
    "                [ms] = unpack_obj\n",
    "\n",
    "            if disk_size not in data_per_disk.keys():\n",
    "                data_per_disk[disk_size] = {}\n",
    "\n",
    "            if snap_nb not in data_per_disk[disk_size].keys():\n",
    "                data_per_disk[disk_size][snap_nb] = []\n",
    "\n",
    "            data_per_disk[disk_size][snap_nb] += [ms]\n",
    "\n",
    "\n",
    "            i += 1\n",
    "            if i == len(lines):\n",
    "                break\n",
    "    return data_per_disk\n",
    "\n",
    "data_per_disk_vanilla = data_per_disk_from_file(VANILLA_FILE_PATH)\n",
    "data_per_disk_dh = dpddh= data_per_disk_from_file(DIRECT_FILE_PATH)\n",
    "\n",
    "\n",
    "for k in data_per_disk_vanilla.keys():\n",
    "    for kk in data_per_disk_vanilla[k].keys():\n",
    "        data_per_disk_vanilla[k][kk] = sum(data_per_disk_vanilla[k][kk])/len(data_per_disk_vanilla[k][kk])\n",
    "    dic = data_per_disk_vanilla[k]\n",
    "    pp.pprint(dic.keys())\n",
    "    pp.pprint(dic.values())\n",
    "    plt.plot([int(a) for a in dic.keys()], dic.values(), label=\"Vanilla Startup duration (\"+k+\")\")\n",
    "    \n",
    "for k in dpddh.keys():\n",
    "    for kk in dpddh[k].keys():\n",
    "        dpddh[k][kk] = sum(dpddh[k][kk])/len(dpddh[k][kk])\n",
    "    dic = dpddh[k]\n",
    "    pp.pprint(dic.keys())\n",
    "    pp.pprint(dic.values())\n",
    "    plt.plot([int(a) for a in dic.keys()], dic.values(), label=\"Direct access Startup duration (\"+k+\")\")\n",
    "\n",
    "plt.xlabel(\"chain length\")\n",
    "plt.ylabel(\"time (ms)\")\n",
    "plt.ylim(ymin=0)\n",
    "plt.xlim(xmin=0)\n",
    "plt.legend()    \n",
    "plt.show()"
   ]
  },
  {
   "cell_type": "code",
<<<<<<< HEAD
   "execution_count": 3,
=======
   "execution_count": 2,
>>>>>>> bc9377f627eb54b0bbfdd2ac584714804c1db0f9
   "id": "agreed-pride",
   "metadata": {},
   "outputs": [
    {
     "name": "stdout",
     "output_type": "stream",
     "text": [
      "{'0': 1764.4, '50': 54.6}\n"
     ]
    }
   ],
   "source": [
    "import pandas as pd\n",
    "import numpy as np\n",
    "import csv\n",
    "\n",
    "MICRO_METRICS_DIR = \"/home/nivek/Documents/results_expes/metrics_nb_clusters/\"\n",
    "files_results = [\"exec_string50_50G_1\", \"exec_string50_50G_2\", \"exec_string50_50G_3\", \"exec_string50_50G_4\", \"exec_string50_50G_5\"]\n",
    "\n",
    "finals_data_50G = dict()\n",
    "\n",
    "for file in files_results:\n",
    "    CSV_FILE = MICRO_METRICS_DIR + \"direct-hack/50G/\"+file\n",
    "\n",
    "    datas = []\n",
    "\n",
    "    with open(CSV_FILE, 'r') as datafile :\n",
    "        csvreader = csv.reader(datafile, delimiter=';', quotechar='|')\n",
    "        for row in csvreader:\n",
    "            datas += [row]\n",
    "\n",
    "    df = pd.DataFrame(datas, columns=[\"event\", \"offset\", \"snapshot_id\"])\n",
    "    #data = df[df.event == \"NORMAL\"].groupby([\"snapshot_id\"]).agg(np.size)[\"event\"].to_dict()\n",
    "    data = df[df.event == \"NORMAL\"].groupby([\"snapshot_id\", \"offset\"])[\"offset\"].agg(np.size).groupby('snapshot_id').agg(np.size).to_dict()\n",
    "    \n",
    "    for k in data.keys():\n",
    "        if k not in finals_data_50G.keys():\n",
    "            finals_data_50G[k] = []\n",
    "        finals_data_50G[k] += [data[k]]\n",
    "        \n",
    "for k in finals_data_50G.keys():\n",
    "    finals_data_50G[k] = sum(finals_data_50G[k])/len(finals_data_50G[k])\n",
    "    \n",
    "print(finals_data_50G)"
   ]
  },
  {
   "cell_type": "code",
<<<<<<< HEAD
   "execution_count": 5,
=======
   "execution_count": 3,
>>>>>>> bc9377f627eb54b0bbfdd2ac584714804c1db0f9
   "id": "static-palmer",
   "metadata": {},
   "outputs": [
    {
     "name": "stdout",
     "output_type": "stream",
     "text": [
<<<<<<< HEAD
      "{'0': 2034.2, '50': 65.6}\n"
=======
      "{'0': 1770.2, '50': 40.0}\n"
>>>>>>> bc9377f627eb54b0bbfdd2ac584714804c1db0f9
     ]
    }
   ],
   "source": [
    "import pandas as pd\n",
    "import numpy as np\n",
    "\n",
    "MICRO_METRICS_DIR = \"/home/nivek/Documents/results_expes/metrics_nb_clusters/\"\n",
<<<<<<< HEAD
    "files_results = [\"exec_string50_50G_1\", \"exec_string50_50G_2\", \"exec_string50_50G_3\", \"exec_string50_50G_4\", \"exec_string50_50G_5\"]\n",
=======
    "files_results = [\"exec_string50_150G_1\", \"exec_string50_150G_2\", \"exec_string50_150G_3\", \"exec_string50_150G_4\", \"exec_string50_150G_5\"]\n",
>>>>>>> bc9377f627eb54b0bbfdd2ac584714804c1db0f9
    "\n",
    "finals_data_150G = dict()\n",
    "\n",
    "for file in files_results:\n",
<<<<<<< HEAD
    "    CSV_FILE = MICRO_METRICS_DIR + \"vanilla/50G/\"+file\n",
=======
    "    CSV_FILE = MICRO_METRICS_DIR + \"direct-hack/150G/\"+file\n",
>>>>>>> bc9377f627eb54b0bbfdd2ac584714804c1db0f9
    "\n",
    "    datas = []\n",
    "\n",
    "    with open(CSV_FILE, 'r') as datafile :\n",
    "        csvreader = csv.reader(datafile, delimiter=';', quotechar='|')\n",
    "        for row in csvreader:\n",
    "            datas += [row]\n",
    "\n",
    "    df = pd.DataFrame(datas, columns=[\"event\", \"offset\", \"snapshot_id\"])\n",
    "    #data = df[df.event == \"NORMAL\"].groupby([\"snapshot_id\"]).agg(np.size)[\"event\"].to_dict()\n",
    "    data = df[df.event == \"NORMAL\"].groupby([\"snapshot_id\", \"offset\"])[\"offset\"].agg(np.size).groupby('snapshot_id').agg(np.size).to_dict()\n",
    "    \n",
    "    for k in data.keys():\n",
    "        if str(k) not in finals_data_150G.keys():\n",
    "            finals_data_150G[str(k)] = []\n",
    "        finals_data_150G[str(k)] += [data[k]]\n",
    "        \n",
    "for k in finals_data_150G.keys():\n",
    "    finals_data_150G[k] = sum(finals_data_150G[k])/len(finals_data_150G[k])\n",
    "    \n",
    "print(finals_data_150G)"
   ]
  },
  {
   "cell_type": "code",
<<<<<<< HEAD
   "execution_count": 6,
=======
   "execution_count": 4,
>>>>>>> bc9377f627eb54b0bbfdd2ac584714804c1db0f9
   "id": "documented-spain",
   "metadata": {
    "scrolled": true
   },
   "outputs": [
    {
     "data": {
<<<<<<< HEAD
      "image/png": "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\n",
=======
      "image/png": "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\n",
>>>>>>> bc9377f627eb54b0bbfdd2ac584714804c1db0f9
      "text/plain": [
       "<Figure size 432x288 with 1 Axes>"
      ]
     },
     "metadata": {
      "needs_background": "light"
     },
     "output_type": "display_data"
    }
   ],
   "source": [
    "keys1 = finals_data_50G.keys()\n",
    "keys2 = finals_data_150G.keys()\n",
    "\n",
    "data_dh = [finals_data_50G[str(i)] if str(i) in keys1 else 0 for i in range(51)]\n",
    "data_van = [finals_data_150G[str(i)] if str(i) in keys2 else 0 for i in range(51)]\n",
    "\n",
    "plt.plot(range(51),     data_dh, label=\"Nb clusters/snapshots (50G disque)\")\n",
    "plt.plot(range(51), data_van, label=\"Nb clusters/snapshots (150G disque)\")\n",
    "\n",
    "plt.xlabel(\"snapshot index\")\n",
    "plt.ylabel(\"#Clusters\")\n",
    "plt.legend()    \n",
    "plt.show()"
   ]
  },
  {
   "cell_type": "markdown",
   "id": "parallel-russia",
   "metadata": {},
   "source": [
    "## 150G, Direct hack chain length: 50"
   ]
  },
  {
   "cell_type": "code",
   "execution_count": 5,
   "id": "engaged-orientation",
   "metadata": {},
   "outputs": [
    {
     "name": "stdout",
     "output_type": "stream",
     "text": [
      "{'CACHE_MISSED': 0.000147293998821648, 'CACHE_REQ': 2471248.0, 'NORMAL': 120150.8, 'UNALLOCATED': 0.4983776183136248}\n"
     ]
    }
   ],
   "source": [
    "import pandas as pd\n",
    "import numpy as np\n",
    "\n",
    "MICRO_METRICS_DIR = \"/home/nivek/Documents/results_expes/metrics_nb_clusters/\"\n",
    "files_results = [\"exec_string50_150G_1\", \"exec_string50_150G_2\", \"exec_string50_150G_3\", \"exec_string50_150G_4\", \"exec_string50_150G_5\"]\n",
    "\n",
    "finals_data_150G_events_direct = dict()\n",
    "\n",
    "for file in files_results:\n",
    "    CSV_FILE = MICRO_METRICS_DIR + \"direct-hack/150G/\"+file\n",
    "\n",
    "    datas = []\n",
    "\n",
    "    with open(CSV_FILE, 'r') as datafile :\n",
    "        csvreader = csv.reader(datafile, delimiter=';', quotechar='|')\n",
    "        for row in csvreader:\n",
    "            datas += [row]\n",
    "\n",
    "    df = pd.DataFrame(datas, columns=[\"event\", \"offset\", \"snapshot_id\"])\n",
    "    #data = df[df.event == \"NORMAL\"].groupby([\"snapshot_id\"]).agg(np.size)[\"event\"].to_dict()\n",
    "    data = df.groupby(\"event\").agg(np.size)[\"offset\"].to_dict()\n",
    "    \n",
    "    for k in data.keys():\n",
    "        if str(k) not in finals_data_150G_events_direct.keys():\n",
    "            finals_data_150G_events_direct[str(k)] = []\n",
    "        finals_data_150G_events_direct[str(k)] += [data[k]]\n",
    "        \n",
    "for k in finals_data_150G_events_direct.keys():\n",
    "    finals_data_150G_events_direct[k] = sum(finals_data_150G_events_direct[k])/len(finals_data_150G_events_direct[k])\n",
    "    \n",
    "finals_data_150G_events_direct['UNALLOCATED'] /= (finals_data_150G_events_direct['UNALLOCATED'] + finals_data_150G_events_direct['NORMAL']) \n",
    "finals_data_150G_events_direct['CACHE_MISSED'] /= finals_data_150G_events_direct['CACHE_REQ'] \n",
    "\n",
    "\n",
    "print(finals_data_150G_events_direct)"
   ]
  },
  {
   "cell_type": "markdown",
   "id": "secret-forest",
   "metadata": {},
   "source": [
    "## 150G, Direct hack chain length: 100"
   ]
  },
  {
   "cell_type": "code",
   "execution_count": 6,
   "id": "operational-breed",
   "metadata": {},
   "outputs": [
    {
     "name": "stdout",
     "output_type": "stream",
     "text": [
      "{'CACHE_MISSED': 0.00022278168215204372, 'CACHE_REQ': 2487637.2, 'NORMAL': 120111.6, 'UNALLOCATED': 0.4983842097745912}\n"
     ]
    }
   ],
   "source": [
    "import pandas as pd\n",
    "import numpy as np\n",
    "\n",
    "MICRO_METRICS_DIR = \"/home/nivek/Documents/results_expes/metrics_nb_clusters/\"\n",
    "files_results = [\"exec_string100_150G_1\", \"exec_string100_150G_2\", \"exec_string100_150G_3\", \"exec_string100_150G_4\", \"exec_string100_150G_5\"]\n",
    "\n",
    "finals_data_150G_events_direct_100 = dict()\n",
    "\n",
    "for file in files_results:\n",
    "    CSV_FILE = MICRO_METRICS_DIR + \"direct-hack/150G/\"+file\n",
    "\n",
    "    datas = []\n",
    "\n",
    "    with open(CSV_FILE, 'r') as datafile :\n",
    "        csvreader = csv.reader(datafile, delimiter=';', quotechar='|')\n",
    "        for row in csvreader:\n",
    "            datas += [row]\n",
    "\n",
    "    df = pd.DataFrame(datas, columns=[\"event\", \"offset\", \"snapshot_id\"])\n",
    "    #data = df[df.event == \"NORMAL\"].groupby([\"snapshot_id\"]).agg(np.size)[\"event\"].to_dict()\n",
    "    data = df.groupby(\"event\").agg(np.size)[\"offset\"].to_dict()\n",
    "    \n",
    "    for k in data.keys():\n",
    "        if str(k) not in finals_data_150G_events_direct_100.keys():\n",
    "            finals_data_150G_events_direct_100[str(k)] = []\n",
    "        finals_data_150G_events_direct_100[str(k)] += [data[k]]\n",
    "        \n",
    "for k in finals_data_150G_events_direct_100.keys():\n",
    "    finals_data_150G_events_direct_100[k] = sum(finals_data_150G_events_direct_100[k])/len(finals_data_150G_events_direct_100[k])\n",
    "    \n",
    "finals_data_150G_events_direct_100['UNALLOCATED'] /= (finals_data_150G_events_direct_100['UNALLOCATED'] + finals_data_150G_events_direct_100['NORMAL']) \n",
    "finals_data_150G_events_direct_100['CACHE_MISSED'] /= finals_data_150G_events_direct_100['CACHE_REQ'] \n",
    "\n",
    "\n",
    "print(finals_data_150G_events_direct_100)"
   ]
  },
  {
   "cell_type": "markdown",
   "id": "dietary-retreat",
   "metadata": {},
   "source": [
    "## 150G, Vanilla chain length: 50"
   ]
  },
  {
   "cell_type": "code",
   "execution_count": 7,
   "id": "still-elizabeth",
   "metadata": {},
   "outputs": [
    {
     "name": "stdout",
     "output_type": "stream",
     "text": [
      "{'CACHE_MISSED': 8.229585436556434e-05, 'CACHE_REQ': 2340336.6, 'NORMAL': 120938.6, 'UNALLOCATED': 0.9802021019802941}\n"
     ]
    }
   ],
   "source": [
    "import pandas as pd\n",
    "import numpy as np\n",
    "\n",
    "MICRO_METRICS_DIR = \"/home/nivek/Documents/results_expes/metrics_nb_clusters/\"\n",
    "files_results = [\"exec_string50_150G_1\", \"exec_string50_150G_2\", \"exec_string50_150G_3\", \"exec_string50_150G_4\", \"exec_string50_150G_5\"]\n",
    "\n",
    "finals_data_150G_events_vanilla = dict()\n",
    "\n",
    "for file in files_results:\n",
    "    CSV_FILE = MICRO_METRICS_DIR + \"vanilla/150G/\"+file\n",
    "\n",
    "    datas = []\n",
    "\n",
    "    with open(CSV_FILE, 'r') as datafile :\n",
    "        csvreader = csv.reader(datafile, delimiter=';', quotechar='|')\n",
    "        for row in csvreader:\n",
    "            datas += [row]\n",
    "\n",
    "    df = pd.DataFrame(datas, columns=[\"event\", \"offset\", \"snapshot_id\"])\n",
    "    #data = df[df.event == \"NORMAL\"].groupby([\"snapshot_id\"]).agg(np.size)[\"event\"].to_dict()\n",
    "    data = df.groupby(\"event\").agg(np.size)[\"offset\"].to_dict()\n",
    "    \n",
    "    for k in data.keys():\n",
    "        if str(k) not in finals_data_150G_events_vanilla.keys():\n",
    "            finals_data_150G_events_vanilla[str(k)] = []\n",
    "        finals_data_150G_events_vanilla[str(k)] += [data[k]]\n",
    "        \n",
    "for k in finals_data_150G_events_vanilla.keys():\n",
    "    finals_data_150G_events_vanilla[k] = sum(finals_data_150G_events_vanilla[k])/len(finals_data_150G_events_vanilla[k])\n",
    "    \n",
    "finals_data_150G_events_vanilla['UNALLOCATED'] /= (finals_data_150G_events_vanilla['UNALLOCATED'] + finals_data_150G_events_vanilla['NORMAL']) \n",
    "finals_data_150G_events_vanilla['CACHE_MISSED'] /= finals_data_150G_events_vanilla['CACHE_REQ'] \n",
    "\n",
    "\n",
    "print(finals_data_150G_events_vanilla)"
   ]
  },
  {
   "cell_type": "markdown",
   "id": "empty-calgary",
   "metadata": {},
   "source": [
    "## 150G, Vanilla chain length: 100"
   ]
  },
  {
   "cell_type": "code",
<<<<<<< HEAD
   "execution_count": 2,
=======
   "execution_count": 8,
>>>>>>> bc9377f627eb54b0bbfdd2ac584714804c1db0f9
   "id": "fitted-optics",
   "metadata": {},
   "outputs": [
    {
     "name": "stdout",
     "output_type": "stream",
     "text": [
      "{'CACHE_MISSED': 0.00010314166785802272, 'CACHE_REQ': 2340470.2, 'NORMAL': 120775.0, 'UNALLOCATED': 0.9889035025057274}\n"
     ]
    }
   ],
   "source": [
    "import pandas as pd\n",
    "import numpy as np\n",
    "\n",
    "MICRO_METRICS_DIR = \"/home/nivek/Documents/results_expes/metrics_nb_clusters/\"\n",
    "files_results = [\"exec_string100_150G_1\", \"exec_string50_150G_2\", \"exec_string100_150G_3\", \"exec_string100_150G_4\", \"exec_string100_150G_5\"]\n",
    "\n",
    "finals_data_150G_events_vanilla_100 = dict()\n",
    "\n",
    "for file in files_results:\n",
    "    CSV_FILE = MICRO_METRICS_DIR + \"vanilla/150G/\"+file\n",
    "\n",
    "    datas = []\n",
    "\n",
    "    with open(CSV_FILE, 'r') as datafile :\n",
    "        csvreader = csv.reader(datafile, delimiter=';', quotechar='|')\n",
    "        for row in csvreader:\n",
    "            datas += [row]\n",
    "\n",
    "    df = pd.DataFrame(datas, columns=[\"event\", \"offset\", \"snapshot_id\"])\n",
    "    #data = df[df.event == \"NORMAL\"].groupby([\"snapshot_id\"]).agg(np.size)[\"event\"].to_dict()\n",
    "    data = df.groupby(\"event\").agg(np.size)[\"offset\"].to_dict()\n",
    "    \n",
    "    for k in data.keys():\n",
    "        if str(k) not in finals_data_150G_events_vanilla_100.keys():\n",
    "            finals_data_150G_events_vanilla_100[str(k)] = []\n",
    "        finals_data_150G_events_vanilla_100[str(k)] += [data[k]]\n",
    "        \n",
    "for k in finals_data_150G_events_vanilla_100.keys():\n",
    "    finals_data_150G_events_vanilla_100[k] = sum(finals_data_150G_events_vanilla_100[k])/len(finals_data_150G_events_vanilla_100[k])\n",
    "    \n",
    "finals_data_150G_events_vanilla_100['UNALLOCATED'] /= (finals_data_150G_events_vanilla_100['UNALLOCATED'] + finals_data_150G_events_vanilla_100['NORMAL']) \n",
    "finals_data_150G_events_vanilla_100['CACHE_MISSED'] /= finals_data_150G_events_vanilla_100['CACHE_REQ'] \n",
    "\n",
    "\n",
    "print(finals_data_150G_events_vanilla_100)"
   ]
<<<<<<< HEAD
  },
  {
   "cell_type": "code",
   "execution_count": null,
   "id": "coastal-basis",
   "metadata": {},
   "outputs": [],
   "source": []
=======
>>>>>>> bc9377f627eb54b0bbfdd2ac584714804c1db0f9
  }
 ],
 "metadata": {
  "kernelspec": {
   "display_name": "Python 3",
   "language": "python",
   "name": "python3"
  },
  "language_info": {
   "codemirror_mode": {
    "name": "ipython",
    "version": 3
   },
   "file_extension": ".py",
   "mimetype": "text/x-python",
   "name": "python",
   "nbconvert_exporter": "python",
   "pygments_lexer": "ipython3",
   "version": "3.8.5"
  }
 },
 "nbformat": 4,
 "nbformat_minor": 5
}
